{
 "cells": [
  {
   "cell_type": "markdown",
   "metadata": {},
   "source": [
    "This codes are simply for displaying GCOM-C, this under contruction. The result not giving the coordinate information."
   ]
  },
  {
   "cell_type": "code",
   "execution_count": null,
   "metadata": {},
   "outputs": [],
   "source": [
    "import numpy as np\n",
    "import matplotlib.pyplot as plt\n",
    "import sglicod\n",
    "import h5py"
   ]
  },
  {
   "cell_type": "code",
   "execution_count": null,
   "metadata": {},
   "outputs": [],
   "source": [
    "V, H, imgX, imgY = sglicod.sgli_ll2tile_B0(4800, 114.679553, -8.384211)\n",
    "print(V, H, imgX, imgY)"
   ]
  },
  {
   "cell_type": "markdown",
   "metadata": {},
   "source": [
    "Data can download at https://gportal.jaxa.jp/gpr"
   ]
  },
  {
   "cell_type": "code",
   "execution_count": null,
   "metadata": {},
   "outputs": [],
   "source": [
    "df = \"GC1SG1_20231205D01D_T0929_L2SG_RSRFQ_3002.h5\""
   ]
  },
  {
   "cell_type": "code",
   "execution_count": null,
   "metadata": {},
   "outputs": [],
   "source": [
    "df = h5py.File(df, 'r')"
   ]
  },
  {
   "cell_type": "code",
   "execution_count": null,
   "metadata": {},
   "outputs": [],
   "source": [
    "list(df.keys())"
   ]
  },
  {
   "cell_type": "code",
   "execution_count": null,
   "metadata": {},
   "outputs": [],
   "source": [
    "dset = df['Image_data']"
   ]
  },
  {
   "cell_type": "code",
   "execution_count": null,
   "metadata": {},
   "outputs": [],
   "source": [
    "list(dset.keys())"
   ]
  },
  {
   "cell_type": "code",
   "execution_count": null,
   "metadata": {},
   "outputs": [],
   "source": [
    "dVN08=dset['Rs_VN08']\n",
    "print(dVN08.dtype)\n",
    "print(dVN08.shape)\n",
    "\n",
    "dVN11=dset['Rs_VN11']\n",
    "print(dVN11.dtype)\n",
    "print(dVN11.shape)"
   ]
  },
  {
   "cell_type": "code",
   "execution_count": null,
   "metadata": {},
   "outputs": [],
   "source": [
    "VN08 = np.array(dVN08[:])\n",
    "print(VN08.dtype)\n",
    "print(VN08.shape)\n",
    "VN08\n",
    "\n",
    "VN11 = np.array(dVN11[:])\n",
    "print(VN11.dtype)\n",
    "print(VN11.shape)\n",
    "VN11"
   ]
  },
  {
   "cell_type": "code",
   "execution_count": null,
   "metadata": {},
   "outputs": [],
   "source": [
    "flatVN08 = VN08.flatten()\n",
    "flatVN11 = VN11.flatten()"
   ]
  },
  {
   "cell_type": "code",
   "execution_count": null,
   "metadata": {},
   "outputs": [],
   "source": [
    "iVN08 = flatVN08 * 0.0001\n",
    "iVN11 = flatVN11 * 0.0001\n",
    "\n",
    "print(iVN08.dtype)\n",
    "print(iVN08.shape)\n",
    "print(iVN11.dtype)\n",
    "print(iVN11.shape)\n"
   ]
  },
  {
   "cell_type": "code",
   "execution_count": null,
   "metadata": {},
   "outputs": [],
   "source": [
    "imgVN08 = np.reshape(iVN08,(4800, 4800))\n",
    "imgVN11 = np.reshape(iVN11,(4800, 4800))\n",
    "\n",
    "print(imgVN08)\n",
    "print(imgVN08.shape)\n",
    "print(imgVN11)\n",
    "print(imgVN11.shape)"
   ]
  },
  {
   "cell_type": "code",
   "execution_count": null,
   "metadata": {},
   "outputs": [],
   "source": [
    "figVN08, ax = plt.subplots() \n",
    "cs08 = ax.imshow(imgVN08, vmin=0.0, vmax=0.4, cmap='gray')\n",
    "ax.plot(1657, 4024, 'r^', label='Location of Interest')\n",
    "ax.legend()\n",
    "ax.axis('on')\n",
    "cbar = figVN08.colorbar(cs08, extend='both')\n",
    "cbar.ax.set_ylabel('Reflectance of VN08')"
   ]
  },
  {
   "cell_type": "code",
   "execution_count": null,
   "metadata": {},
   "outputs": [],
   "source": [
    "figVN11, ax = plt.subplots()\n",
    "ax.margins(x=1000, y=4000) \n",
    "cs11 = ax.imshow(imgVN11, vmin=0.0, vmax=0.4, cmap='gray')\n",
    "ax.plot(1657, 4024, 'r^', label='Location of Interest')\n",
    "ax.legend()\n",
    "ax.axis('on')\n",
    "cbar = figVN11.colorbar(cs11,extend='both')\n",
    "cbar.ax.set_ylabel('Reflectance of VN11')"
   ]
  },
  {
   "cell_type": "markdown",
   "metadata": {},
   "source": [
    "Extract a 301x301 pixel area centered on your chosen point from the binary data and display it using matplotlib. "
   ]
  },
  {
   "cell_type": "code",
   "execution_count": null,
   "metadata": {},
   "outputs": [],
   "source": [
    "figVN08, ax = plt.subplots() \n",
    "cs08 = ax.imshow(imgVN08, vmin=0.0, vmax=0.4, cmap='gray')\n",
    "ax.axis('on')\n",
    "ax.plot(1657, 4024, 'r^', label='Location of Interest')\n",
    "ax.legend()\n",
    "plt.axis([1507, 1807, 4174, 3874])\n",
    "cbar = figVN08.colorbar(cs08,extend='both')\n",
    "cbar.ax.set_ylabel('Reflectance of VN08')"
   ]
  },
  {
   "cell_type": "code",
   "execution_count": null,
   "metadata": {},
   "outputs": [],
   "source": [
    "figVN11, ax = plt.subplots() \n",
    "cs11 = ax.imshow(imgVN11, vmin=0.0, vmax=0.4, cmap='gray')\n",
    "ax.axis('on')\n",
    "ax.plot(1657, 4024, 'r^', label='Location of Interest')\n",
    "ax.legend()\n",
    "plt.axis([1507, 1807, 4174, 3874])\n",
    "cbar = figVN11.colorbar(cs11,extend='both')\n",
    "cbar.ax.set_ylabel('Reflectance of VN11')"
   ]
  },
  {
   "cell_type": "markdown",
   "metadata": {},
   "source": [
    "GCOM-C\n",
    "\n",
    "NDVI = (867.12 nm – 672.10 nm) / (867.12 nm + 672.10 nm)\n",
    "\n",
    "NDVI = (VN11 - VN08)/(VN11 + VN08)"
   ]
  },
  {
   "cell_type": "code",
   "execution_count": null,
   "metadata": {},
   "outputs": [],
   "source": [
    "NDVI = (imgVN11 - imgVN08)/(imgVN11 + imgVN08)\n",
    "print(NDVI.shape)"
   ]
  },
  {
   "cell_type": "code",
   "execution_count": null,
   "metadata": {},
   "outputs": [],
   "source": [
    "figNDVI, ax = plt.subplots() \n",
    "csNDVI = ax.imshow(NDVI, vmin=-1.0, vmax=1.0, cmap='RdYlGn')\n",
    "ax.axis('on')\n",
    "ax.plot(1657, 4024, 'r^', label='Location of Interest')\n",
    "ax.legend()\n",
    "cbar = figNDVI.colorbar(csNDVI,extend='both')\n",
    "cbar.ax.set_ylabel('NDVI Values')\n",
    "plt.axis([1507, 1807, 4174, 3874])\n",
    "plt.title(\"NDVI\")"
   ]
  }
 ],
 "metadata": {
  "kernelspec": {
   "display_name": "Python 3",
   "language": "python",
   "name": "python3"
  },
  "language_info": {
   "codemirror_mode": {
    "name": "ipython",
    "version": 3
   },
   "file_extension": ".py",
   "mimetype": "text/x-python",
   "name": "python",
   "nbconvert_exporter": "python",
   "pygments_lexer": "ipython3",
   "version": "3.10.9"
  }
 },
 "nbformat": 4,
 "nbformat_minor": 2
}
